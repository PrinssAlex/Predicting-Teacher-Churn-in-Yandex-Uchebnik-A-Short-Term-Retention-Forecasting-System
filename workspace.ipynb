{
 "cells": [
  {
   "cell_type": "markdown",
   "id": "78965b3a",
   "metadata": {},
   "source": [
    "## Predicting Teacher Churn in Yandex Uchebnik: A Short-Term Retention Forecasting System\n",
    "*Preventing churn before it happens — by predicting which teachers are likely to leave the platform within 1 week or 1 month*"
   ]
  },
  {
   "cell_type": "markdown",
   "id": "aa1b1c64",
   "metadata": {},
   "source": [
    "### Overview"
   ]
  },
  {
   "cell_type": "markdown",
   "id": "16bb0bbe",
   "metadata": {},
   "source": [
    "#### - Problem definition\n",
    "\n",
    "At Yandex Uchebnik (Yandex’s educational platform for K–12 teachers), retaining active users is critical to maintaining engagement and product value. Teachers who stop using the platform represent lost opportunities for impact, feedback, and long-term growth.\n",
    "\n",
    "This project aims to build a short-term churn prediction system that forecasts whether a teacher will stop actively using the platform within:\n",
    "\n",
    "1 week (week_churn) — immediate risk </br>\n",
    "1 month (month_churn) — medium-term risk </br>\n",
    "These predictions are based on historical behavioral data, transformed into numerical features (e.g., activity frequency, content interaction patterns, session duration aggregates, and behavioral embeddings). </br>\n",
    "\n",
    "The output is two independent probability scores per teacher, enabling targeted interventions such as personalized emails, feature recommendations, or support outreach — all before the user disengages. </br>\n",
    "\n",
    "#### - Data\n",
    "\n",
    "All raw events (logins, lesson views, assignment submissions, etc.) and text interactions have been preprocessed into anonymized, tabular numeric features. For each teacher snapshot, we have:\n",
    "\n",
    "- nid: Unique teacher ID (may repeat across dates)\n",
    "- report_date: Date of the snapshot (when the feature vector was generated) \n",
    "- v_0 ... v_N: Numerical features derived from aggregated activity and behavioral embeddings\n",
    "- week_churn: Binary target: 1 = teacher churned within 7 days after report_date, 0 = did not churn\n",
    "- month_churn: Binary target: 1 = teacher churned within 30 days after report_date, 0 = did not churn\n",
    "\n",
    "> Note: Only train.csv contains labels. test.csv contains only features and IDs — used for final prediction. \n",
    "\n",
    "Data is fully anonymized and provided in CSV format with comma delimiters.\n",
    "The datasets can be accessed via the links below. </br> \n",
    "- Train dataset [train.csv]()eee\n",
    "- Test dataset [test.csv]()\n",
    "\n",
    "#### - Evaluation metric - AUC-ROC\n",
    "\n",
    "Imagine you’re a doctor trying to predict which patients are at high risk of developing a disease.\n",
    "\n",
    "You don’t just want to say “yes” or “no” — you want to assign a **risk score** (like 0.85 = very high risk, 0.12 = low risk). The goal is to rank patients correctly: those who actually get sick should have higher scores than those who don’t.\n",
    "\n",
    "ROC-AUC measures **how well the model ranks positive cases (churners) above negative ones (non-churners)** — without forcing you to pick a specific cutoff.\n",
    "\n",
    "It ranges from **0.5 to 1.0**:\n",
    "- **0.5** = Random guessing (like flipping a coin)\n",
    "- **0.7–0.8** = Fair performance\n",
    "- **0.8–0.9** = Good performance\n",
    "- **>0.9** = Excellent performance\n",
    "\n",
    "In our case, since we have **two separate targets** (`week_churn` and `month_churn`), we compute **ROC-AUC for each independently**, then take the **macro average** — meaning we treat both tasks equally important.\n",
    "\n",
    "**As an example**\n",
    "\n",
    "| Score Range     | Interpretation                                                                 |\n",
    "|------------------|--------------------------------------------------------------------------------|\n",
    "| < 0.6            | Poor — model performs worse than random guessing                               |\n",
    "| 0.6 – 0.7        | Weak — barely better than chance; needs major improvement                      |\n",
    "| 0.7 – 0.8        | Moderate — useful for basic prioritization                                     |\n",
    "| 0.8 – 0.9        | Strong — good for operational use (e.g., triggering alerts or campaigns)       |\n",
    "| > 0.9            | Excellent — highly reliable for proactive retention strategies                 |\n",
    "\n",
    "> **Goal**: Achieve **>0.85** macro-ROC-AUC — indicating the model can reliably distinguish between teachers who will churn soon vs. those who won’t.\n",
    "\n",
    "#### - Theory\n",
    "\n",
    "**Why ROC-AUC?**\n",
    "\n",
    "- **Class imbalance friendly**: In churn prediction, most users don’t churn — so accuracy is misleading. ROC-AUC doesn’t care about class balance.\n",
    "- **Threshold agnostic**: You don’t need to decide “what score means ‘churn’?” — it evaluates ranking quality regardless of threshold.\n",
    "- **Probability-focused**: Perfect for systems where you want to sort users by risk, not just classify them.\n",
    "\n",
    "**Why Macro-Average?**\n",
    "\n",
    "Because `week_churn` and `month_churn` are **independent business problems**:\n",
    "- One informs **urgent interventions** (within 7 days)\n",
    "- The other informs **medium-term strategy** (within 30 days)\n",
    "\n",
    "We give equal weight to both — hence, **macro-average** (simple mean) instead of weighted average.\n"
   ]
  },
  {
   "cell_type": "markdown",
   "id": "1314f653",
   "metadata": {},
   "source": [
    "### Data Analysis"
   ]
  },
  {
   "cell_type": "code",
   "execution_count": null,
   "id": "3a7c091b",
   "metadata": {},
   "outputs": [],
   "source": [
    "# import data"
   ]
  },
  {
   "cell_type": "markdown",
   "id": "8e09dbb3",
   "metadata": {},
   "source": [
    "#### Data Wrangling\n",
    "> Assess data and make sure it is ready for ML training"
   ]
  },
  {
   "cell_type": "markdown",
   "id": "7a73c57b",
   "metadata": {},
   "source": []
  },
  {
   "cell_type": "markdown",
   "id": "b1ec9e6e",
   "metadata": {},
   "source": [
    "#### EDA (Exploratory Data Analysis)\n",
    "> Explore relevant relationships that exists amongst several features"
   ]
  },
  {
   "cell_type": "markdown",
   "id": "7d8bcc64",
   "metadata": {},
   "source": []
  },
  {
   "cell_type": "markdown",
   "id": "40dfa67a",
   "metadata": {},
   "source": [
    "### Modelling"
   ]
  },
  {
   "cell_type": "code",
   "execution_count": null,
   "id": "cfc1177f",
   "metadata": {},
   "outputs": [],
   "source": [
    "# make copy of cleaned data"
   ]
  },
  {
   "cell_type": "markdown",
   "id": "22c3adcb",
   "metadata": {},
   "source": []
  },
  {
   "cell_type": "markdown",
   "id": "ae84a52e",
   "metadata": {},
   "source": [
    "#### - Hyper-parameter tuning"
   ]
  },
  {
   "cell_type": "markdown",
   "id": "81102599",
   "metadata": {},
   "source": []
  },
  {
   "cell_type": "markdown",
   "id": "2589836c",
   "metadata": {},
   "source": [
    "#### - Fit best model"
   ]
  },
  {
   "cell_type": "markdown",
   "id": "a01f0181",
   "metadata": {},
   "source": []
  },
  {
   "cell_type": "markdown",
   "id": "20d5b827",
   "metadata": {},
   "source": [
    "#### - Pre-process test data (optional)"
   ]
  },
  {
   "cell_type": "markdown",
   "id": "e3d76d14",
   "metadata": {},
   "source": []
  },
  {
   "cell_type": "markdown",
   "id": "e8e199d0",
   "metadata": {},
   "source": [
    "#### - Feature importance"
   ]
  },
  {
   "cell_type": "markdown",
   "id": "7651b8fd",
   "metadata": {},
   "source": []
  },
  {
   "cell_type": "markdown",
   "id": "2c2643ad",
   "metadata": {},
   "source": [
    "### Deployment"
   ]
  },
  {
   "cell_type": "markdown",
   "id": "13d39fae",
   "metadata": {},
   "source": []
  },
  {
   "cell_type": "markdown",
   "id": "4c111ee8",
   "metadata": {},
   "source": [
    "### Experiments (optional)"
   ]
  },
  {
   "cell_type": "markdown",
   "id": "3163efbf",
   "metadata": {},
   "source": []
  },
  {
   "cell_type": "markdown",
   "id": "0aa7537c",
   "metadata": {},
   "source": [
    "### Conclusion"
   ]
  },
  {
   "cell_type": "markdown",
   "id": "594bb682",
   "metadata": {},
   "source": []
  }
 ],
 "metadata": {
  "language_info": {
   "name": "python"
  }
 },
 "nbformat": 4,
 "nbformat_minor": 5
}
